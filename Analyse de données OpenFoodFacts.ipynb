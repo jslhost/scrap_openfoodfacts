{
 "cells": [
  {
   "cell_type": "markdown",
   "id": "parental-titanium",
   "metadata": {},
   "source": [
    "## Utilisation du module de Scraping"
   ]
  },
  {
   "cell_type": "code",
   "execution_count": 1,
   "id": "ecological-inflation",
   "metadata": {},
   "outputs": [],
   "source": [
    "import openfoodfacts"
   ]
  },
  {
   "cell_type": "code",
   "execution_count": 8,
   "id": "premium-yukon",
   "metadata": {},
   "outputs": [
    {
     "name": "stdout",
     "output_type": "stream",
     "text": [
      "Temps d'éxecution : --- 5497.646071434021 seconds ---\n",
      "Merci pour votre patience !\n"
     ]
    }
   ],
   "source": [
    "openfoodfacts.scrap_openfoodfacts(nb_pages = 180)"
   ]
  },
  {
   "cell_type": "markdown",
   "id": "preliminary-jaguar",
   "metadata": {},
   "source": [
    "Le module s'importe correctement.\n",
    "\n",
    "La fonction s'execute sans erreurs. Comme précisé dans la documentation, on peut spécifier le nombre de pages à scraper sur le site d'Open Food Facts. Il faut en moyenne 30 secondes pour scraper une page du site web."
   ]
  },
  {
   "cell_type": "markdown",
   "id": "opposed-monte",
   "metadata": {},
   "source": [
    "## Chargement des données"
   ]
  },
  {
   "cell_type": "code",
   "execution_count": 2,
   "id": "indonesian-lying",
   "metadata": {},
   "outputs": [],
   "source": [
    "import pandas as pd\n",
    "import numpy as np\n",
    "import matplotlib.pyplot as plt\n",
    "import seaborn as sns"
   ]
  },
  {
   "cell_type": "code",
   "execution_count": 3,
   "id": "subjective-report",
   "metadata": {},
   "outputs": [],
   "source": [
    "df = pd.read_csv('openfoodfacts.csv')"
   ]
  },
  {
   "cell_type": "code",
   "execution_count": 11,
   "id": "bound-impact",
   "metadata": {},
   "outputs": [
    {
     "data": {
      "text/html": [
       "<div>\n",
       "<style scoped>\n",
       "    .dataframe tbody tr th:only-of-type {\n",
       "        vertical-align: middle;\n",
       "    }\n",
       "\n",
       "    .dataframe tbody tr th {\n",
       "        vertical-align: top;\n",
       "    }\n",
       "\n",
       "    .dataframe thead th {\n",
       "        text-align: right;\n",
       "    }\n",
       "</style>\n",
       "<table border=\"1\" class=\"dataframe\">\n",
       "  <thead>\n",
       "    <tr style=\"text-align: right;\">\n",
       "      <th></th>\n",
       "      <th>Produit</th>\n",
       "      <th>CodeBarre</th>\n",
       "      <th>NutriScore</th>\n",
       "      <th>Nova</th>\n",
       "      <th>Caractéristiques</th>\n",
       "      <th>Ingrédients</th>\n",
       "      <th>NoPalme</th>\n",
       "      <th>Palme</th>\n",
       "      <th>KJ</th>\n",
       "      <th>KCAL</th>\n",
       "      <th>...</th>\n",
       "      <th>Code</th>\n",
       "      <th>Lien</th>\n",
       "      <th>Magasin</th>\n",
       "      <th>Origine</th>\n",
       "      <th>Pays</th>\n",
       "      <th>NbPays</th>\n",
       "      <th>MatGrasse</th>\n",
       "      <th>AcideGras</th>\n",
       "      <th>Sucre</th>\n",
       "      <th>Sel</th>\n",
       "    </tr>\n",
       "  </thead>\n",
       "  <tbody>\n",
       "    <tr>\n",
       "      <th>0</th>\n",
       "      <td>Cristaline Eau de source - 1,5</td>\n",
       "      <td>3.274080e+12</td>\n",
       "      <td>A</td>\n",
       "      <td>1.0</td>\n",
       "      <td>Eau de source naturelle</td>\n",
       "      <td>Eau minérale naturelle</td>\n",
       "      <td>Sans huile de palme</td>\n",
       "      <td>NaN</td>\n",
       "      <td>0.0</td>\n",
       "      <td>0.0</td>\n",
       "      <td>...</td>\n",
       "      <td>EMB 44068A - Guenrouet (Loire-Atlantique, Fra...</td>\n",
       "      <td>//www.moneaucristaline.fr/</td>\n",
       "      <td>Carrefour, Leclerc, Auchan</td>\n",
       "      <td>France</td>\n",
       "      <td>[' France', ' Guadeloupe', ' Italie', ' Luxemb...</td>\n",
       "      <td>12</td>\n",
       "      <td>4.0</td>\n",
       "      <td>0.0</td>\n",
       "      <td>0.0</td>\n",
       "      <td>0.0275</td>\n",
       "    </tr>\n",
       "    <tr>\n",
       "      <th>1</th>\n",
       "      <td>Nutella - Ferrero - 400</td>\n",
       "      <td>3.017620e+12</td>\n",
       "      <td>E</td>\n",
       "      <td>4.0</td>\n",
       "      <td>Pâte à tartiner aux noisettes et au cacao</td>\n",
       "      <td>Sucre, huile de palme, noisettes 13%, lait écr...</td>\n",
       "      <td>NaN</td>\n",
       "      <td>Huile de palme</td>\n",
       "      <td>25.0</td>\n",
       "      <td>539.0</td>\n",
       "      <td>...</td>\n",
       "      <td>NON COMMUNIQUÉ</td>\n",
       "      <td>//www.nutella.com/fr/fr/produits/n...</td>\n",
       "      <td>Bi1, Magasins U, Carrefour, Franprix, Auchan</td>\n",
       "      <td>Australie, Brésil, Chili, Côte d'Ivoire, Ghan...</td>\n",
       "      <td>[' Autriche', ' Belgique', ' Canada', ' France...</td>\n",
       "      <td>17</td>\n",
       "      <td>30.9</td>\n",
       "      <td>10.6</td>\n",
       "      <td>56.3</td>\n",
       "      <td>0.1070</td>\n",
       "    </tr>\n",
       "    <tr>\n",
       "      <th>2</th>\n",
       "      <td>Prince - Lu - 300</td>\n",
       "      <td>7.622210e+12</td>\n",
       "      <td>D</td>\n",
       "      <td>4.0</td>\n",
       "      <td>BISCUITS FOURRÉS (35%) PARFUM CHOCOLAT</td>\n",
       "      <td>céréales 50,7% (farine de blé 35%, farine de b...</td>\n",
       "      <td>NaN</td>\n",
       "      <td>NaN</td>\n",
       "      <td>95.0</td>\n",
       "      <td>465.0</td>\n",
       "      <td>...</td>\n",
       "      <td>NaN</td>\n",
       "      <td>//www.lu.fr/prince</td>\n",
       "      <td>Carrefour Market, Magasins U, Auchan, Interma...</td>\n",
       "      <td>NaN</td>\n",
       "      <td>[' Belgique', ' France', ' Polynésie française...</td>\n",
       "      <td>15</td>\n",
       "      <td>17.0</td>\n",
       "      <td>5.6</td>\n",
       "      <td>32.0</td>\n",
       "      <td>0.5800</td>\n",
       "    </tr>\n",
       "    <tr>\n",
       "      <th>3</th>\n",
       "      <td>Coca-Cola - 330</td>\n",
       "      <td>5.449000e+12</td>\n",
       "      <td>E</td>\n",
       "      <td>4.0</td>\n",
       "      <td>Soda aux extraits végétaux</td>\n",
       "      <td>Eau gazéifiée, sucre, colorant : E150d, acidif...</td>\n",
       "      <td>NaN</td>\n",
       "      <td>NaN</td>\n",
       "      <td>180.0</td>\n",
       "      <td>42.0</td>\n",
       "      <td>...</td>\n",
       "      <td>NaN</td>\n",
       "      <td>//coca-cola.pl coke.at</td>\n",
       "      <td>Tesco, Auchan, Carrefour</td>\n",
       "      <td>NaN</td>\n",
       "      <td>[' Andorre', ' Autriche', ' Belgique', ' Brési...</td>\n",
       "      <td>36</td>\n",
       "      <td>0.0</td>\n",
       "      <td>0.0</td>\n",
       "      <td>10.6</td>\n",
       "      <td>0.0000</td>\n",
       "    </tr>\n",
       "    <tr>\n",
       "      <th>4</th>\n",
       "      <td>Nutella - Ferrero - 1</td>\n",
       "      <td>3.017620e+12</td>\n",
       "      <td>E</td>\n",
       "      <td>4.0</td>\n",
       "      <td>Pâte à tartiner aux noisettes</td>\n",
       "      <td>Sucre, huile de palme, NOISETTES 13%, LAIT écr...</td>\n",
       "      <td>NaN</td>\n",
       "      <td>Huile de palme</td>\n",
       "      <td>25.0</td>\n",
       "      <td>539.0</td>\n",
       "      <td>...</td>\n",
       "      <td>NaN</td>\n",
       "      <td>//www.nutella.com/fr/fr/produits/n...</td>\n",
       "      <td>Auchan</td>\n",
       "      <td>NaN</td>\n",
       "      <td>[' Belgique', ' France', ' Allemagne', ' Guade...</td>\n",
       "      <td>10</td>\n",
       "      <td>30.9</td>\n",
       "      <td>10.6</td>\n",
       "      <td>56.3</td>\n",
       "      <td>0.1070</td>\n",
       "    </tr>\n",
       "  </tbody>\n",
       "</table>\n",
       "<p>5 rows × 27 columns</p>\n",
       "</div>"
      ],
      "text/plain": [
       "                          Produit     CodeBarre NutriScore  Nova  \\\n",
       "0  Cristaline Eau de source - 1,5  3.274080e+12          A   1.0   \n",
       "1         Nutella - Ferrero - 400  3.017620e+12          E   4.0   \n",
       "2               Prince - Lu - 300  7.622210e+12          D   4.0   \n",
       "3                Coca-Cola - 330   5.449000e+12          E   4.0   \n",
       "4          Nutella - Ferrero - 1   3.017620e+12          E   4.0   \n",
       "\n",
       "                            Caractéristiques  \\\n",
       "0                    Eau de source naturelle   \n",
       "1  Pâte à tartiner aux noisettes et au cacao   \n",
       "2     BISCUITS FOURRÉS (35%) PARFUM CHOCOLAT   \n",
       "3                 Soda aux extraits végétaux   \n",
       "4              Pâte à tartiner aux noisettes   \n",
       "\n",
       "                                         Ingrédients              NoPalme  \\\n",
       "0                             Eau minérale naturelle  Sans huile de palme   \n",
       "1  Sucre, huile de palme, noisettes 13%, lait écr...                  NaN   \n",
       "2  céréales 50,7% (farine de blé 35%, farine de b...                  NaN   \n",
       "3  Eau gazéifiée, sucre, colorant : E150d, acidif...                  NaN   \n",
       "4  Sucre, huile de palme, NOISETTES 13%, LAIT écr...                  NaN   \n",
       "\n",
       "            Palme     KJ   KCAL  ...  \\\n",
       "0             NaN    0.0    0.0  ...   \n",
       "1  Huile de palme   25.0  539.0  ...   \n",
       "2             NaN   95.0  465.0  ...   \n",
       "3             NaN  180.0   42.0  ...   \n",
       "4  Huile de palme   25.0  539.0  ...   \n",
       "\n",
       "                                                Code  \\\n",
       "0   EMB 44068A - Guenrouet (Loire-Atlantique, Fra...   \n",
       "1                                     NON COMMUNIQUÉ   \n",
       "2                                                NaN   \n",
       "3                                                NaN   \n",
       "4                                                NaN   \n",
       "\n",
       "                                    Lien  \\\n",
       "0             //www.moneaucristaline.fr/   \n",
       "1  //www.nutella.com/fr/fr/produits/n...   \n",
       "2                     //www.lu.fr/prince   \n",
       "3                 //coca-cola.pl coke.at   \n",
       "4  //www.nutella.com/fr/fr/produits/n...   \n",
       "\n",
       "                                             Magasin  \\\n",
       "0                         Carrefour, Leclerc, Auchan   \n",
       "1       Bi1, Magasins U, Carrefour, Franprix, Auchan   \n",
       "2   Carrefour Market, Magasins U, Auchan, Interma...   \n",
       "3                           Tesco, Auchan, Carrefour   \n",
       "4                                             Auchan   \n",
       "\n",
       "                                             Origine  \\\n",
       "0                                             France   \n",
       "1   Australie, Brésil, Chili, Côte d'Ivoire, Ghan...   \n",
       "2                                                NaN   \n",
       "3                                                NaN   \n",
       "4                                                NaN   \n",
       "\n",
       "                                                Pays NbPays MatGrasse  \\\n",
       "0  [' France', ' Guadeloupe', ' Italie', ' Luxemb...     12       4.0   \n",
       "1  [' Autriche', ' Belgique', ' Canada', ' France...     17      30.9   \n",
       "2  [' Belgique', ' France', ' Polynésie française...     15      17.0   \n",
       "3  [' Andorre', ' Autriche', ' Belgique', ' Brési...     36       0.0   \n",
       "4  [' Belgique', ' France', ' Allemagne', ' Guade...     10      30.9   \n",
       "\n",
       "  AcideGras Sucre     Sel  \n",
       "0       0.0   0.0  0.0275  \n",
       "1      10.6  56.3  0.1070  \n",
       "2       5.6  32.0  0.5800  \n",
       "3       0.0  10.6  0.0000  \n",
       "4      10.6  56.3  0.1070  \n",
       "\n",
       "[5 rows x 27 columns]"
      ]
     },
     "execution_count": 11,
     "metadata": {},
     "output_type": "execute_result"
    }
   ],
   "source": [
    "df.head()"
   ]
  },
  {
   "cell_type": "code",
   "execution_count": 32,
   "id": "devoted-princess",
   "metadata": {},
   "outputs": [
    {
     "data": {
      "text/plain": [
       "(18000, 27)"
      ]
     },
     "execution_count": 32,
     "metadata": {},
     "output_type": "execute_result"
    }
   ],
   "source": [
    "df.shape"
   ]
  },
  {
   "cell_type": "code",
   "execution_count": 13,
   "id": "discrete-affairs",
   "metadata": {},
   "outputs": [
    {
     "name": "stdout",
     "output_type": "stream",
     "text": [
      "<class 'pandas.core.frame.DataFrame'>\n",
      "RangeIndex: 18000 entries, 0 to 17999\n",
      "Data columns (total 27 columns):\n",
      " #   Column            Non-Null Count  Dtype  \n",
      "---  ------            --------------  -----  \n",
      " 0   Produit           18000 non-null  object \n",
      " 1   CodeBarre         17926 non-null  float64\n",
      " 2   NutriScore        16254 non-null  object \n",
      " 3   Nova              16349 non-null  float64\n",
      " 4   Caractéristiques  10355 non-null  object \n",
      " 5   Ingrédients       17004 non-null  object \n",
      " 6   NoPalme           9299 non-null   object \n",
      " 7   Palme             1089 non-null   object \n",
      " 8   KJ                7229 non-null   float64\n",
      " 9   KCAL              16282 non-null  float64\n",
      " 10  Eco-Score         14089 non-null  object \n",
      " 11  Quantité          16933 non-null  object \n",
      " 12  Conditionnement   16104 non-null  object \n",
      " 13  Marque            17765 non-null  object \n",
      " 14  Catégorie         18000 non-null  object \n",
      " 15  Label             9901 non-null   object \n",
      " 16  Lieux             7828 non-null   object \n",
      " 17  Code              5925 non-null   object \n",
      " 18  Lien              3523 non-null   object \n",
      " 19  Magasin           13787 non-null  object \n",
      " 20  Origine           5331 non-null   object \n",
      " 21  Pays              18000 non-null  object \n",
      " 22  NbPays            18000 non-null  int64  \n",
      " 23  MatGrasse         17969 non-null  float64\n",
      " 24  AcideGras         17969 non-null  float64\n",
      " 25  Sucre             17968 non-null  float64\n",
      " 26  Sel               17996 non-null  float64\n",
      "dtypes: float64(8), int64(1), object(18)\n",
      "memory usage: 3.7+ MB\n"
     ]
    }
   ],
   "source": [
    "df.info()"
   ]
  },
  {
   "cell_type": "markdown",
   "id": "governmental-shooting",
   "metadata": {},
   "source": [
    "Le dataset a correctement été généré. Il contient 18 000 éléments pour 26 variables différentes.\n",
    "\n",
    "Afin de faciliter l'analyse, les données manquantes ont été notifié comme \"NaN\" et non comme \"XXX\". Cela permet de visualiser rapidement les variables qui ont été plus dures à scraper, comme le lien du produit par exemple."
   ]
  },
  {
   "cell_type": "markdown",
   "id": "oriented-boutique",
   "metadata": {},
   "source": [
    "## Analyse de données"
   ]
  },
  {
   "cell_type": "markdown",
   "id": "infinite-conclusion",
   "metadata": {},
   "source": [
    "### Distribution du nombre de produits par catégorie NutriScore, Eco-Score et NovaScore"
   ]
  },
  {
   "cell_type": "code",
   "execution_count": 14,
   "id": "instant-temple",
   "metadata": {},
   "outputs": [
    {
     "data": {
      "image/png": "[encoded data removed]",
      "text/plain": [
       "<Figure size 432x288 with 1 Axes>"
      ]
     },
     "metadata": {
      "needs_background": "light"
     },
     "output_type": "display_data"
    }
   ],
   "source": [
    "df.NutriScore.value_counts().plot(kind = 'bar')\n",
    "plt.show()"
   ]
  },
  {
   "cell_type": "code",
   "execution_count": 15,
   "id": "stuck-galaxy",
   "metadata": {},
   "outputs": [
    {
     "data": {
      "image/png": "[encoded data removed]",
      "text/plain": [
       "<Figure size 432x288 with 1 Axes>"
      ]
     },
     "metadata": {
      "needs_background": "light"
     },
     "output_type": "display_data"
    }
   ],
   "source": [
    "df.Nova.value_counts().plot(kind = 'bar')\n",
    "plt.show()"
   ]
  },
  {
   "cell_type": "code",
   "execution_count": 16,
   "id": "joint-syndicate",
   "metadata": {},
   "outputs": [
    {
     "data": {
      "image/png": "[encoded data removed]",
      "text/plain": [
       "<Figure size 432x288 with 1 Axes>"
      ]
     },
     "metadata": {
      "needs_background": "light"
     },
     "output_type": "display_data"
    }
   ],
   "source": [
    "df['Eco-Score'].value_counts().plot(kind = 'bar')\n",
    "plt.show()"
   ]
  },
  {
   "cell_type": "markdown",
   "id": "disabled-drill",
   "metadata": {},
   "source": [
    "Comme on peut l'apercevoir ci-dessus, la majorité des produits partagent les caractéristiques suivantes :\n",
    "\n",
    "Nutri Score : D, Eco-Score : B, Nova Score : 4.\n",
    "\n",
    "Autrement dit, la plupart des produits sont ultra-transformés et de mauvaise qualité nutritionnelle. Cependant, Ils n'ont globalement pas un impact environnemental trop élevé (Bien que les scores C et D se retrouvent en 2ème et 3ème position). \n",
    "\n",
    "La distribution du Nutri Score est plutôt équilibré, ce qui signifie qu'avec un peu de recherche on peut trouver des substituts de meilleure qualité pour un même produit.\n",
    "\n",
    "Ce n'est cependant pas le cas du Nova Score, il sera toujours difficile de trouver des aliments ayant été peu transformés. C'est donc principalement ce score que l'on souhaiterait améliorer dans une problématique business."
   ]
  },
  {
   "cell_type": "markdown",
   "id": "acoustic-carter",
   "metadata": {},
   "source": [
    "### Liste des produits \"Gluten Free\" optimaux"
   ]
  },
  {
   "cell_type": "code",
   "execution_count": 5,
   "id": "frank-integer",
   "metadata": {},
   "outputs": [
    {
     "data": {
      "text/html": [
       "<div>\n",
       "<style scoped>\n",
       "    .dataframe tbody tr th:only-of-type {\n",
       "        vertical-align: middle;\n",
       "    }\n",
       "\n",
       "    .dataframe tbody tr th {\n",
       "        vertical-align: top;\n",
       "    }\n",
       "\n",
       "    .dataframe thead th {\n",
       "        text-align: right;\n",
       "    }\n",
       "</style>\n",
       "<table border=\"1\" class=\"dataframe\">\n",
       "  <thead>\n",
       "    <tr style=\"text-align: right;\">\n",
       "      <th></th>\n",
       "      <th>Produit</th>\n",
       "      <th>NutriScore</th>\n",
       "      <th>Eco-Score</th>\n",
       "      <th>Nova</th>\n",
       "    </tr>\n",
       "  </thead>\n",
       "  <tbody>\n",
       "    <tr>\n",
       "      <th>387</th>\n",
       "      <td>Panzani tomacouli nature - 200</td>\n",
       "      <td>A</td>\n",
       "      <td>A</td>\n",
       "      <td>1.0</td>\n",
       "    </tr>\n",
       "    <tr>\n",
       "      <th>389</th>\n",
       "      <td>Soja nature sans sucre ajouté bio - Bjorg - 1</td>\n",
       "      <td>A</td>\n",
       "      <td>A</td>\n",
       "      <td>1.0</td>\n",
       "    </tr>\n",
       "    <tr>\n",
       "      <th>549</th>\n",
       "      <td>Compote Pomme Nature - Andros - 730</td>\n",
       "      <td>A</td>\n",
       "      <td>A</td>\n",
       "      <td>1.0</td>\n",
       "    </tr>\n",
       "    <tr>\n",
       "      <th>1064</th>\n",
       "      <td>Pomme Sans sucres ajoutés - Carrefour - 710</td>\n",
       "      <td>A</td>\n",
       "      <td>A</td>\n",
       "      <td>1.0</td>\n",
       "    </tr>\n",
       "    <tr>\n",
       "      <th>1074</th>\n",
       "      <td>Panzani - bc - tomacouli nature bio - 250</td>\n",
       "      <td>A</td>\n",
       "      <td>A</td>\n",
       "      <td>1.0</td>\n",
       "    </tr>\n",
       "    <tr>\n",
       "      <th>...</th>\n",
       "      <td>...</td>\n",
       "      <td>...</td>\n",
       "      <td>...</td>\n",
       "      <td>...</td>\n",
       "    </tr>\n",
       "    <tr>\n",
       "      <th>17351</th>\n",
       "      <td>Ananas origine Philippines en tranches au jus ...</td>\n",
       "      <td>A</td>\n",
       "      <td>A</td>\n",
       "      <td>1.0</td>\n",
       "    </tr>\n",
       "    <tr>\n",
       "      <th>17583</th>\n",
       "      <td>Tomates entières pelées fraîches - Carrefour B...</td>\n",
       "      <td>A</td>\n",
       "      <td>A</td>\n",
       "      <td>1.0</td>\n",
       "    </tr>\n",
       "    <tr>\n",
       "      <th>17611</th>\n",
       "      <td>Lentille verte du Centre - Reflets de France -...</td>\n",
       "      <td>A</td>\n",
       "      <td>A</td>\n",
       "      <td>1.0</td>\n",
       "    </tr>\n",
       "    <tr>\n",
       "      <th>17884</th>\n",
       "      <td>Farine de blé Bio - Auchan - 1</td>\n",
       "      <td>A</td>\n",
       "      <td>A</td>\n",
       "      <td>1.0</td>\n",
       "    </tr>\n",
       "    <tr>\n",
       "      <th>17970</th>\n",
       "      <td>Pois Chiches - Fleurs Des Champs - 265</td>\n",
       "      <td>A</td>\n",
       "      <td>A</td>\n",
       "      <td>1.0</td>\n",
       "    </tr>\n",
       "  </tbody>\n",
       "</table>\n",
       "<p>173 rows × 4 columns</p>\n",
       "</div>"
      ],
      "text/plain": [
       "                                                 Produit NutriScore Eco-Score  \\\n",
       "387                       Panzani tomacouli nature - 200          A         A   \n",
       "389        Soja nature sans sucre ajouté bio - Bjorg - 1          A         A   \n",
       "549                  Compote Pomme Nature - Andros - 730          A         A   \n",
       "1064         Pomme Sans sucres ajoutés - Carrefour - 710          A         A   \n",
       "1074           Panzani - bc - tomacouli nature bio - 250          A         A   \n",
       "...                                                  ...        ...       ...   \n",
       "17351  Ananas origine Philippines en tranches au jus ...          A         A   \n",
       "17583  Tomates entières pelées fraîches - Carrefour B...          A         A   \n",
       "17611  Lentille verte du Centre - Reflets de France -...          A         A   \n",
       "17884                    Farine de blé Bio - Auchan - 1           A         A   \n",
       "17970             Pois Chiches - Fleurs Des Champs - 265          A         A   \n",
       "\n",
       "       Nova  \n",
       "387     1.0  \n",
       "389     1.0  \n",
       "549     1.0  \n",
       "1064    1.0  \n",
       "1074    1.0  \n",
       "...     ...  \n",
       "17351   1.0  \n",
       "17583   1.0  \n",
       "17611   1.0  \n",
       "17884   1.0  \n",
       "17970   1.0  \n",
       "\n",
       "[173 rows x 4 columns]"
      ]
     },
     "execution_count": 5,
     "metadata": {},
     "output_type": "execute_result"
    }
   ],
   "source": [
    "df[(df['NutriScore'] == 'A') & (df['Eco-Score'] == 'A') & (df['Nova'] == 1)][['Produit', 'NutriScore', 'Eco-Score', 'Nova']]"
   ]
  },
  {
   "cell_type": "markdown",
   "id": "amazing-return",
   "metadata": {},
   "source": [
    "Après analyse, on se retrouve avec 173 produits \"Gluten Free\" optimaux. Autrement dit, il y a une proportion d'environ 1% de produits \"Gluten Free\" optimaux au sein de notre dataset. Il n'est donc pas impossible de s'alimenter en choisissant des produits de qualité mais cela reste une tâche difficile à accomplir. En effet, il est rare qu'un produit possède les 3 scores de qualité au maximum. Une alternative peut alors être de se contenter des produits n'ayant que 2 des 3 scores optimaux."
   ]
  },
  {
   "cell_type": "code",
   "execution_count": 8,
   "id": "spanish-simulation",
   "metadata": {},
   "outputs": [
    {
     "data": {
      "text/plain": [
       "697"
      ]
     },
     "execution_count": 8,
     "metadata": {},
     "output_type": "execute_result"
    }
   ],
   "source": [
    "df[(df['NutriScore'] == 'A') & (df['Eco-Score'] == 'A')].count()['Produit']"
   ]
  },
  {
   "cell_type": "code",
   "execution_count": 9,
   "id": "automatic-lightning",
   "metadata": {},
   "outputs": [
    {
     "data": {
      "text/plain": [
       "963"
      ]
     },
     "execution_count": 9,
     "metadata": {},
     "output_type": "execute_result"
    }
   ],
   "source": [
    "df[(df['NutriScore'] == 'A') & (df['Nova'] == 1)].count()['Produit']"
   ]
  },
  {
   "cell_type": "code",
   "execution_count": 10,
   "id": "indonesian-address",
   "metadata": {},
   "outputs": [
    {
     "data": {
      "text/plain": [
       "251"
      ]
     },
     "execution_count": 10,
     "metadata": {},
     "output_type": "execute_result"
    }
   ],
   "source": [
    "df[(df['Eco-Score'] == 'A') & (df['Nova'] == 1)].count()['Produit']"
   ]
  },
  {
   "cell_type": "markdown",
   "id": "casual-reggae",
   "metadata": {},
   "source": [
    "Comme on peut le voir dans les exemples ci-dessus, cela augmente nettement la quantité de produits disponibles. Il peut ainsi s'agir d'un compromis intéressant pour élargir sa gamme de produits sans pour autant baisser trop leur qualité."
   ]
  },
  {
   "cell_type": "markdown",
   "id": "enabling-better",
   "metadata": {},
   "source": [
    "### Nombre de produit dont le ratio sucre/produit est supérieur à 0.6"
   ]
  },
  {
   "cell_type": "code",
   "execution_count": 12,
   "id": "incorporate-judge",
   "metadata": {},
   "outputs": [
    {
     "data": {
      "text/plain": [
       "373"
      ]
     },
     "execution_count": 12,
     "metadata": {},
     "output_type": "execute_result"
    }
   ],
   "source": [
    "nb_sucre = df[df['Sucre']/100 >= 0.6].count()['Produit']\n",
    "nb_sucre"
   ]
  },
  {
   "cell_type": "code",
   "execution_count": 13,
   "id": "cardiac-pizza",
   "metadata": {},
   "outputs": [],
   "source": [
    "ratio_sucre = nb_sucre / len(df) \n",
    "ratio_sucre\n",
    "y = np.array([1-ratio_sucre, ratio_sucre])\n",
    "labels = ['Sucre/Produit < 0.6', 'Sucre/Produit > 0.6']"
   ]
  },
  {
   "cell_type": "code",
   "execution_count": 20,
   "id": "constant-cover",
   "metadata": {},
   "outputs": [
    {
     "data": {
      "image/png": "[encoded data removed]",
      "text/plain": [
       "<Figure size 432x288 with 1 Axes>"
      ]
     },
     "metadata": {},
     "output_type": "display_data"
    }
   ],
   "source": [
    "plt.pie(y, labels = labels)\n",
    "plt.show()"
   ]
  },
  {
   "cell_type": "code",
   "execution_count": 14,
   "id": "anticipated-chapel",
   "metadata": {},
   "outputs": [
    {
     "data": {
      "text/plain": [
       "0.020722222222222222"
      ]
     },
     "execution_count": 14,
     "metadata": {},
     "output_type": "execute_result"
    }
   ],
   "source": [
    "ratio_sucre"
   ]
  },
  {
   "cell_type": "markdown",
   "id": "decent-credits",
   "metadata": {},
   "source": [
    "373 produits de notre dataset ont un ratio sucre/produit supérieur à 0.6. Cela représente environ 2% de nos données. Il s'agit ainsi de produits relativement rares. "
   ]
  },
  {
   "cell_type": "code",
   "execution_count": 19,
   "id": "german-harmony",
   "metadata": {},
   "outputs": [
    {
     "data": {
      "text/plain": [
       "1024"
      ]
     },
     "execution_count": 19,
     "metadata": {},
     "output_type": "execute_result"
    }
   ],
   "source": [
    "nb_sucre = df[df['Sucre']/100 >= 0.5].count()['Produit']\n",
    "nb_sucre"
   ]
  },
  {
   "cell_type": "markdown",
   "id": "stylish-madness",
   "metadata": {},
   "source": [
    "Cependant, ce ratio augmente rapidement. En effet, 1024 produits ont un ratio sucre/produit supérieur à 0.5. Il faut donc rester vigilent sur la quantité de sucre présent dans nos aliments."
   ]
  },
  {
   "cell_type": "markdown",
   "id": "proper-tampa",
   "metadata": {},
   "source": [
    "### Liste des produits dont le nombre de calories pour 100g est supérieur à 500"
   ]
  },
  {
   "cell_type": "code",
   "execution_count": 21,
   "id": "liable-seating",
   "metadata": {},
   "outputs": [
    {
     "data": {
      "text/plain": [
       "1                                  Nutella - Ferrero - 400\n",
       "4                                   Nutella - Ferrero - 1 \n",
       "7                         Nutella biscuits - Ferrero - 304\n",
       "15       Excellence 70% Cacao Noir Intense - Lindt - 100 g\n",
       "27              Pur beurre de cacahuète - Jardin Bio - 350\n",
       "                               ...                        \n",
       "17947           Pistaches caramélisées - J. D. GROSS - 125\n",
       "17953    Big Hit Cacahuètes Chocolatées - Mister ChocLi...\n",
       "17963              Chocolat noir - Château - 400 g (2x200 \n",
       "17967                  Palmiers - Mes p tits secrets - 100\n",
       "17976                           Mayonnaise - Lesieur - 710\n",
       "Name: Produit, Length: 2190, dtype: object"
      ]
     },
     "execution_count": 21,
     "metadata": {},
     "output_type": "execute_result"
    }
   ],
   "source": [
    "df[df['KCAL'] > 500]['Produit']"
   ]
  },
  {
   "cell_type": "markdown",
   "id": "finished-turner",
   "metadata": {},
   "source": [
    "2190 produits possèdent plus de 500 calories pour 100g (soit 12% de nos données). Encore une fois, il faut rester vigilent face à ce genre d'indicateur qui montre que notre alimentation est souvent trop riche en calories."
   ]
  },
  {
   "cell_type": "markdown",
   "id": "julian-robin",
   "metadata": {},
   "source": [
    "### Liste des produits contenant de l’huile de palme, vendu en France et en Belgique"
   ]
  },
  {
   "cell_type": "code",
   "execution_count": 20,
   "id": "indonesian-relationship",
   "metadata": {},
   "outputs": [],
   "source": [
    "palme = df[(df['Palme'] == 'Huile de palme') & ((df['Pays'].str.contains('France')) & (df['Pays'].str.contains('Belgique')))]['Produit']"
   ]
  },
  {
   "cell_type": "code",
   "execution_count": 21,
   "id": "interested-vessel",
   "metadata": {},
   "outputs": [
    {
     "data": {
      "text/plain": [
       "1                                  Nutella - Ferrero - 400\n",
       "4                                   Nutella - Ferrero - 1 \n",
       "7                         Nutella biscuits - Ferrero - 304\n",
       "29                                 Nutella - Ferrero - 975\n",
       "35                                 Nutella - Ferrero - 750\n",
       "50                                 Nutella - Ferrero - 825\n",
       "127      Kinder bueno gaufrettes enrobees de chocolat 2...\n",
       "256      Nutella pate a tartiner noisettes-cacao t200 p...\n",
       "727      Ferrero rocher fines gaufrettes enrobees de ch...\n",
       "1264                     Kinder schokobons sachet de - 200\n",
       "1478     Kinder chocofresh gouter frais chocolat superi...\n",
       "2396     Snickers glacé x7 - Mars - 288 g (6 * 48 g e) ...\n",
       "3223                                          Maltesers 17\n",
       "3599     Bounty Barres Glacees Ice Cream - BountyMars -...\n",
       "3887         Ristorante - Pizza Spinaci - Dr. Oetker - 390\n",
       "3891     CLUSTERS almonds seeds barres de céréales - Ne...\n",
       "7111                   Balisto Goût fruits des bois - 166,\n",
       "8921                       Spéculoos Crunchy - Lotus - 380\n",
       "9699     Chocolat noir bio caramel beurre salé - Côte d...\n",
       "10018                 Balisto Noisettes Raisins x9 - 166.5\n",
       "12293                                   M&M's Peanut - 300\n",
       "14004    Kinder maxi barre chocolat au lait avec fourra...\n",
       "15056    Feuilleté de Mousse Menthe - La Laitière - 228...\n",
       "16487    Clusters crunchy choco - Nestlé - 140 g, 4 bar...\n",
       "Name: Produit, dtype: object"
      ]
     },
     "execution_count": 21,
     "metadata": {},
     "output_type": "execute_result"
    }
   ],
   "source": [
    "palme"
   ]
  },
  {
   "cell_type": "code",
   "execution_count": 22,
   "id": "fluid-little",
   "metadata": {},
   "outputs": [
    {
     "data": {
      "text/plain": [
       "24"
      ]
     },
     "execution_count": 22,
     "metadata": {},
     "output_type": "execute_result"
    }
   ],
   "source": [
    "len(palme)"
   ]
  },
  {
   "cell_type": "markdown",
   "id": "blond-decade",
   "metadata": {},
   "source": [
    "Voici la liste des 24 produits contenant de l'huile de palme vendu en France et Belgique. Il s'agit principalement de biscuits chocolatés ou de pates à tartiner aux noisettes."
   ]
  },
  {
   "cell_type": "markdown",
   "id": "solid-pursuit",
   "metadata": {},
   "source": [
    "### Distribution des produits par nombre de pays de vente"
   ]
  },
  {
   "cell_type": "code",
   "execution_count": 29,
   "id": "amazing-proposal",
   "metadata": {},
   "outputs": [
    {
     "data": {
      "image/png": "[encoded data removed]",
      "text/plain": [
       "<Figure size 432x288 with 1 Axes>"
      ]
     },
     "metadata": {
      "needs_background": "light"
     },
     "output_type": "display_data"
    }
   ],
   "source": [
    "df['NbPays'].value_counts()[1:].nlargest(5).plot(kind='bar')\n",
    "plt.show()"
   ]
  },
  {
   "cell_type": "markdown",
   "id": "mounted-thread",
   "metadata": {},
   "source": [
    "Comme on peut le constater, la plupart des produits sont vendus dans un unique pays. Cela peut par exemple signifier que la plupart des produits sont des aliments produits au sein du pays d'origine. Cela est plutôt encourageant dans un objectif d'une alimentation locale."
   ]
  },
  {
   "cell_type": "code",
   "execution_count": 41,
   "id": "hired-charter",
   "metadata": {},
   "outputs": [
    {
     "data": {
      "text/html": [
       "<div>\n",
       "<style scoped>\n",
       "    .dataframe tbody tr th:only-of-type {\n",
       "        vertical-align: middle;\n",
       "    }\n",
       "\n",
       "    .dataframe tbody tr th {\n",
       "        vertical-align: top;\n",
       "    }\n",
       "\n",
       "    .dataframe thead th {\n",
       "        text-align: right;\n",
       "    }\n",
       "</style>\n",
       "<table border=\"1\" class=\"dataframe\">\n",
       "  <thead>\n",
       "    <tr style=\"text-align: right;\">\n",
       "      <th></th>\n",
       "      <th>Produit</th>\n",
       "      <th>NbPays</th>\n",
       "    </tr>\n",
       "  </thead>\n",
       "  <tbody>\n",
       "    <tr>\n",
       "      <th>3</th>\n",
       "      <td>Coca-Cola - 330</td>\n",
       "      <td>36</td>\n",
       "    </tr>\n",
       "  </tbody>\n",
       "</table>\n",
       "</div>"
      ],
      "text/plain": [
       "            Produit  NbPays\n",
       "3  Coca-Cola - 330       36"
      ]
     },
     "execution_count": 41,
     "metadata": {},
     "output_type": "execute_result"
    }
   ],
   "source": [
    "df[df['Produit'] == 'Coca-Cola - 330\\xa0'][['Produit', 'NbPays']]"
   ]
  },
  {
   "cell_type": "markdown",
   "id": "nervous-pathology",
   "metadata": {},
   "source": [
    "A titre d'exemple inverse : le Coca-Cola, connu partout dans le monde, est vendu dans plus de 36 pays différents."
   ]
  },
  {
   "cell_type": "markdown",
   "id": "legendary-french",
   "metadata": {},
   "source": [
    "## Analyse complémentaire"
   ]
  },
  {
   "cell_type": "markdown",
   "id": "nominated-rocket",
   "metadata": {},
   "source": [
    "### Quelles sont les caractéristiques des produits salés ?"
   ]
  },
  {
   "cell_type": "markdown",
   "id": "unexpected-division",
   "metadata": {},
   "source": [
    "L'excès de sel a un lien bien établi avec les maladies cardiovasculaires, et il est pointé du doigt dans bien d'autres pathologies. Or, le problème ne vient pas tant de la salière, que du sel caché dans les aliments industriels.\n",
    "\n",
    "Notre analyse complémentaire portera ainsi sur ces produits. Qui sont-ils ? D'où proviennent-ils ? De quoi sont-ils composés ? Quel est leur score (Nutri/Eco/Nova) ? "
   ]
  },
  {
   "cell_type": "markdown",
   "id": "infectious-guitar",
   "metadata": {},
   "source": [
    "### Les produits les plus salés"
   ]
  },
  {
   "cell_type": "code",
   "execution_count": 42,
   "id": "sharing-yemen",
   "metadata": {},
   "outputs": [
    {
     "data": {
      "image/png": "[encoded data removed]",
      "text/plain": [
       "<Figure size 432x288 with 1 Axes>"
      ]
     },
     "metadata": {
      "needs_background": "light"
     },
     "output_type": "display_data"
    }
   ],
   "source": [
    "top_sel = df[['Produit', 'Sel']].sort_values('Sel', ascending = False).head(10)\n",
    "top_sel.plot('Produit', 'Sel', kind='barh')\n",
    "plt.show()"
   ]
  },
  {
   "cell_type": "markdown",
   "id": "stone-heavy",
   "metadata": {},
   "source": [
    "Les produits les plus salés sont principalement des produits d'assaisonnement. On peut donc garder en tête que ces produits sont à utiliser avec précaution afin de ne pas surcharger son alimentation de sel."
   ]
  },
  {
   "cell_type": "markdown",
   "id": "continuing-fellow",
   "metadata": {},
   "source": [
    "### D'où viennent les produits salés"
   ]
  },
  {
   "cell_type": "code",
   "execution_count": 47,
   "id": "efficient-madagascar",
   "metadata": {},
   "outputs": [],
   "source": [
    "top_sel = df[['Produit', 'Sel','Origine']].sort_values('Sel', ascending = False).head(1000)"
   ]
  },
  {
   "cell_type": "code",
   "execution_count": 48,
   "id": "strong-memphis",
   "metadata": {},
   "outputs": [
    {
     "data": {
      "image/png": "[encoded data removed]",
      "text/plain": [
       "<Figure size 432x288 with 1 Axes>"
      ]
     },
     "metadata": {
      "needs_background": "light"
     },
     "output_type": "display_data"
    }
   ],
   "source": [
    "top_sel['Origine'].value_counts().nlargest().plot(kind='barh')\n",
    "plt.show()"
   ]
  },
  {
   "cell_type": "markdown",
   "id": "whole-making",
   "metadata": {},
   "source": [
    "Comme on peut le remarquer, les aliments les plus salés proviennent essentiellement de France et de l'Union Européenne. Il peut cepandant s'agit d'un biais dans les données. En effet, il est possible que la plupart des données du site Open Food Facts proviennent de France. Vérifions cette hypothèse."
   ]
  },
  {
   "cell_type": "code",
   "execution_count": 51,
   "id": "turned-stopping",
   "metadata": {},
   "outputs": [
    {
     "data": {
      "image/png": "[encoded data removed]",
      "text/plain": [
       "<Figure size 432x288 with 1 Axes>"
      ]
     },
     "metadata": {
      "needs_background": "light"
     },
     "output_type": "display_data"
    }
   ],
   "source": [
    "df['Origine'].value_counts().nlargest(10).plot(kind='barh')\n",
    "plt.show()"
   ]
  },
  {
   "cell_type": "markdown",
   "id": "statewide-collins",
   "metadata": {},
   "source": [
    "C'est bien le cas. On ne peut donc pas tirer de conclusion sur l'origine des produits salés avec les données à notre disposition."
   ]
  },
  {
   "cell_type": "markdown",
   "id": "golden-commodity",
   "metadata": {},
   "source": [
    "### Le Score des produits salés"
   ]
  },
  {
   "cell_type": "code",
   "execution_count": 59,
   "id": "labeled-tracy",
   "metadata": {},
   "outputs": [
    {
     "name": "stdout",
     "output_type": "stream",
     "text": [
      "NovaScore : 3.4086021505376345 \n",
      "--------------\n",
      " NutriScore : 0    D\n",
      "dtype: object \n",
      "--------------\n",
      " Eco-Score : 0    A\n",
      "dtype: object\n"
     ]
    }
   ],
   "source": [
    "top_sel = df[['Produit', 'Sel', 'Eco-Score', 'Nova', 'NutriScore']].sort_values('Sel', ascending = False).head(100)\n",
    "salt_nova = top_sel['Nova'].mean()\n",
    "salt_nutri = top_sel['NutriScore'].mode()\n",
    "salt_eco = top_sel['Eco-Score'].mode()\n",
    "\n",
    "print(f'NovaScore : {salt_nova} \\n--------------\\n NutriScore : {salt_nutri} \\n--------------\\n Eco-Score : {salt_eco}')"
   ]
  },
  {
   "cell_type": "markdown",
   "id": "formal-neutral",
   "metadata": {},
   "source": [
    "On peut retrouver ci-dessus les scores des produits salés. On peut en conclure que les produits salés ont tendance à être d'une mauvaise qualité nutritionnelle et très transformés. Cependant, ils ont pour caractéristiques d'être souvent écologiques."
   ]
  },
  {
   "cell_type": "markdown",
   "id": "cordless-chick",
   "metadata": {},
   "source": [
    "### La composition des produits salés"
   ]
  },
  {
   "cell_type": "code",
   "execution_count": 62,
   "id": "welsh-fitting",
   "metadata": {},
   "outputs": [],
   "source": [
    "gass = df[['MatGrasse', 'AcideGras', 'Sucre', 'KCAL', 'KJ']]"
   ]
  },
  {
   "cell_type": "code",
   "execution_count": 75,
   "id": "sharp-network",
   "metadata": {},
   "outputs": [],
   "source": [
    "#Création de sous ensemble salé / non salé\n",
    "salé = df[(df['Sel'] > df['Sel'].mean()) & (df['MatGrasse'] < 30) & (df['AcideGras'] < 6) & (df['KCAL'] < 600) & (df['Sucre'] < 60)]\n",
    "non_salé = df[(df['Sel'] < df['Sel'].mean()) & (df['MatGrasse'] < 30) & (df['AcideGras'] < 6) & (df['KCAL'] < 600) & (df['Sucre'] < 60)]"
   ]
  },
  {
   "cell_type": "code",
   "execution_count": 76,
   "id": "casual-precipitation",
   "metadata": {},
   "outputs": [
    {
     "data": {
      "image/png": "[encoded data removed]",
      "text/plain": [
       "<Figure size 432x288 with 1 Axes>"
      ]
     },
     "metadata": {
      "needs_background": "light"
     },
     "output_type": "display_data"
    },
    {
     "data": {
      "image/png": "[encoded data removed]",
      "text/plain": [
       "<Figure size 432x288 with 1 Axes>"
      ]
     },
     "metadata": {
      "needs_background": "light"
     },
     "output_type": "display_data"
    },
    {
     "data": {
      "image/png": "[encoded data removed]",
      "text/plain": [
       "<Figure size 432x288 with 1 Axes>"
      ]
     },
     "metadata": {
      "needs_background": "light"
     },
     "output_type": "display_data"
    },
    {
     "data": {
      "image/png": "[encoded data removed]",
      "text/plain": [
       "<Figure size 432x288 with 1 Axes>"
      ]
     },
     "metadata": {
      "needs_background": "light"
     },
     "output_type": "display_data"
    },
    {
     "data": {
      "image/png": "[encoded data removed]",
      "text/plain": [
       "<Figure size 432x288 with 1 Axes>"
      ]
     },
     "metadata": {
      "needs_background": "light"
     },
     "output_type": "display_data"
    }
   ],
   "source": [
    "for col in gass:\n",
    "    sns.histplot(data= salé[col], label = 'Très salé', kde = True, color = 'red')\n",
    "    sns.histplot(data= non_salé[col], label = 'Peu salé', kde = True, color = 'orange')\n",
    "    plt.legend()\n",
    "    plt.show()"
   ]
  },
  {
   "cell_type": "markdown",
   "id": "meaning-catch",
   "metadata": {},
   "source": [
    "Ces graphiques nous montrent qu'il y a en réalité assez peu de différences entres les produits peu salés et les produits très salés. Voici les conclusions que l'on peut dégager :\n",
    "\n",
    "- Les produits salés contiennent souvent un peu plus de matières grasse et d'acides gras (tendance existante mais faible)\n",
    "- Ils sont de facto moins concentrés en sucre \n",
    "- Ils sont moins caloriques qu'une certaine catégories de produits peu salés (on pourrait ici approfondir la recherche, il s'agit probablement des produits les plus caloriques identifiés précedemment comme les gateaux chocolatés)\n",
    "- Pas de différence significative de KJ\n",
    "\n",
    "L’excès de sel peut avoir des conséquences néfastes sur la santé. Rétention d’eau, vieillissement de la peau, maladies cardiovasculaires, augmentation des risques de déclin cognitif, hypertension artérielle, risques d’œdèmes, insuffisance cardiaque ou rénale… Il faut donc être très prudent avec sa consommation sur le long terme. "
   ]
  },
  {
   "cell_type": "code",
   "execution_count": null,
   "id": "crucial-blake",
   "metadata": {},
   "outputs": [],
   "source": []
  }
 ],
 "metadata": {
  "kernelspec": {
   "display_name": "Python 3",
   "language": "python",
   "name": "python3"
  },
  "language_info": {
   "codemirror_mode": {
    "name": "ipython",
    "version": 3
   },
   "file_extension": ".py",
   "mimetype": "text/x-python",
   "name": "python",
   "nbconvert_exporter": "python",
   "pygments_lexer": "ipython3",
   "version": "3.8.8"
  }
 },
 "nbformat": 4,
 "nbformat_minor": 5
}
