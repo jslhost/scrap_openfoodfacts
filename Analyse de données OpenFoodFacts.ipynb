{
 "cells": [
  {
   "cell_type": "code",
   "execution_count": 1,
   "id": "ecological-inflation",
   "metadata": {},
   "outputs": [],
   "source": [
    "import openfoodfacts"
   ]
  },
  {
   "cell_type": "code",
   "execution_count": 8,
   "id": "premium-yukon",
   "metadata": {},
   "outputs": [
    {
     "name": "stdout",
     "output_type": "stream",
     "text": [
      "Temps d'éxecution : --- 5497.646071434021 seconds ---\n",
      "Merci pour votre patience !\n"
     ]
    }
   ],
   "source": [
    "openfoodfacts.scrap_openfoodfacts(nb_pages = 180)"
   ]
  },
  {
   "cell_type": "code",
   "execution_count": 9,
   "id": "indonesian-lying",
   "metadata": {},
   "outputs": [],
   "source": [
    "import pandas as pd\n",
    "import numpy as np\n",
    "import matplotlib.pyplot as plt\n",
    "import seaborn as sns"
   ]
  },
  {
   "cell_type": "code",
   "execution_count": 10,
   "id": "subjective-report",
   "metadata": {},
   "outputs": [],
   "source": [
    "df = pd.read_csv('openfoodfacts.csv')"
   ]
  },
  {
   "cell_type": "code",
   "execution_count": 11,
   "id": "bound-impact",
   "metadata": {},
   "outputs": [
    {
     "data": {
      "text/html": [
       "<div>\n",
       "<style scoped>\n",
       "    .dataframe tbody tr th:only-of-type {\n",
       "        vertical-align: middle;\n",
       "    }\n",
       "\n",
       "    .dataframe tbody tr th {\n",
       "        vertical-align: top;\n",
       "    }\n",
       "\n",
       "    .dataframe thead th {\n",
       "        text-align: right;\n",
       "    }\n",
       "</style>\n",
       "<table border=\"1\" class=\"dataframe\">\n",
       "  <thead>\n",
       "    <tr style=\"text-align: right;\">\n",
       "      <th></th>\n",
       "      <th>Produit</th>\n",
       "      <th>CodeBarre</th>\n",
       "      <th>NutriScore</th>\n",
       "      <th>Nova</th>\n",
       "      <th>Caractéristiques</th>\n",
       "      <th>Ingrédients</th>\n",
       "      <th>NoPalme</th>\n",
       "      <th>Palme</th>\n",
       "      <th>KJ</th>\n",
       "      <th>KCAL</th>\n",
       "      <th>...</th>\n",
       "      <th>Code</th>\n",
       "      <th>Lien</th>\n",
       "      <th>Magasin</th>\n",
       "      <th>Origine</th>\n",
       "      <th>Pays</th>\n",
       "      <th>NbPays</th>\n",
       "      <th>MatGrasse</th>\n",
       "      <th>AcideGras</th>\n",
       "      <th>Sucre</th>\n",
       "      <th>Sel</th>\n",
       "    </tr>\n",
       "  </thead>\n",
       "  <tbody>\n",
       "    <tr>\n",
       "      <th>0</th>\n",
       "      <td>Cristaline Eau de source - 1,5</td>\n",
       "      <td>3.274080e+12</td>\n",
       "      <td>A</td>\n",
       "      <td>1.0</td>\n",
       "      <td>Eau de source naturelle</td>\n",
       "      <td>Eau minérale naturelle</td>\n",
       "      <td>Sans huile de palme</td>\n",
       "      <td>NaN</td>\n",
       "      <td>0.0</td>\n",
       "      <td>0.0</td>\n",
       "      <td>...</td>\n",
       "      <td>EMB 44068A - Guenrouet (Loire-Atlantique, Fra...</td>\n",
       "      <td>//www.moneaucristaline.fr/</td>\n",
       "      <td>Carrefour, Leclerc, Auchan</td>\n",
       "      <td>France</td>\n",
       "      <td>[' France', ' Guadeloupe', ' Italie', ' Luxemb...</td>\n",
       "      <td>12</td>\n",
       "      <td>4.0</td>\n",
       "      <td>0.0</td>\n",
       "      <td>0.0</td>\n",
       "      <td>0.0275</td>\n",
       "    </tr>\n",
       "    <tr>\n",
       "      <th>1</th>\n",
       "      <td>Nutella - Ferrero - 400</td>\n",
       "      <td>3.017620e+12</td>\n",
       "      <td>E</td>\n",
       "      <td>4.0</td>\n",
       "      <td>Pâte à tartiner aux noisettes et au cacao</td>\n",
       "      <td>Sucre, huile de palme, noisettes 13%, lait écr...</td>\n",
       "      <td>NaN</td>\n",
       "      <td>Huile de palme</td>\n",
       "      <td>25.0</td>\n",
       "      <td>539.0</td>\n",
       "      <td>...</td>\n",
       "      <td>NON COMMUNIQUÉ</td>\n",
       "      <td>//www.nutella.com/fr/fr/produits/n...</td>\n",
       "      <td>Bi1, Magasins U, Carrefour, Franprix, Auchan</td>\n",
       "      <td>Australie, Brésil, Chili, Côte d'Ivoire, Ghan...</td>\n",
       "      <td>[' Autriche', ' Belgique', ' Canada', ' France...</td>\n",
       "      <td>17</td>\n",
       "      <td>30.9</td>\n",
       "      <td>10.6</td>\n",
       "      <td>56.3</td>\n",
       "      <td>0.1070</td>\n",
       "    </tr>\n",
       "    <tr>\n",
       "      <th>2</th>\n",
       "      <td>Prince - Lu - 300</td>\n",
       "      <td>7.622210e+12</td>\n",
       "      <td>D</td>\n",
       "      <td>4.0</td>\n",
       "      <td>BISCUITS FOURRÉS (35%) PARFUM CHOCOLAT</td>\n",
       "      <td>céréales 50,7% (farine de blé 35%, farine de b...</td>\n",
       "      <td>NaN</td>\n",
       "      <td>NaN</td>\n",
       "      <td>95.0</td>\n",
       "      <td>465.0</td>\n",
       "      <td>...</td>\n",
       "      <td>NaN</td>\n",
       "      <td>//www.lu.fr/prince</td>\n",
       "      <td>Carrefour Market, Magasins U, Auchan, Interma...</td>\n",
       "      <td>NaN</td>\n",
       "      <td>[' Belgique', ' France', ' Polynésie française...</td>\n",
       "      <td>15</td>\n",
       "      <td>17.0</td>\n",
       "      <td>5.6</td>\n",
       "      <td>32.0</td>\n",
       "      <td>0.5800</td>\n",
       "    </tr>\n",
       "    <tr>\n",
       "      <th>3</th>\n",
       "      <td>Coca-Cola - 330</td>\n",
       "      <td>5.449000e+12</td>\n",
       "      <td>E</td>\n",
       "      <td>4.0</td>\n",
       "      <td>Soda aux extraits végétaux</td>\n",
       "      <td>Eau gazéifiée, sucre, colorant : E150d, acidif...</td>\n",
       "      <td>NaN</td>\n",
       "      <td>NaN</td>\n",
       "      <td>180.0</td>\n",
       "      <td>42.0</td>\n",
       "      <td>...</td>\n",
       "      <td>NaN</td>\n",
       "      <td>//coca-cola.pl coke.at</td>\n",
       "      <td>Tesco, Auchan, Carrefour</td>\n",
       "      <td>NaN</td>\n",
       "      <td>[' Andorre', ' Autriche', ' Belgique', ' Brési...</td>\n",
       "      <td>36</td>\n",
       "      <td>0.0</td>\n",
       "      <td>0.0</td>\n",
       "      <td>10.6</td>\n",
       "      <td>0.0000</td>\n",
       "    </tr>\n",
       "    <tr>\n",
       "      <th>4</th>\n",
       "      <td>Nutella - Ferrero - 1</td>\n",
       "      <td>3.017620e+12</td>\n",
       "      <td>E</td>\n",
       "      <td>4.0</td>\n",
       "      <td>Pâte à tartiner aux noisettes</td>\n",
       "      <td>Sucre, huile de palme, NOISETTES 13%, LAIT écr...</td>\n",
       "      <td>NaN</td>\n",
       "      <td>Huile de palme</td>\n",
       "      <td>25.0</td>\n",
       "      <td>539.0</td>\n",
       "      <td>...</td>\n",
       "      <td>NaN</td>\n",
       "      <td>//www.nutella.com/fr/fr/produits/n...</td>\n",
       "      <td>Auchan</td>\n",
       "      <td>NaN</td>\n",
       "      <td>[' Belgique', ' France', ' Allemagne', ' Guade...</td>\n",
       "      <td>10</td>\n",
       "      <td>30.9</td>\n",
       "      <td>10.6</td>\n",
       "      <td>56.3</td>\n",
       "      <td>0.1070</td>\n",
       "    </tr>\n",
       "  </tbody>\n",
       "</table>\n",
       "<p>5 rows × 27 columns</p>\n",
       "</div>"
      ],
      "text/plain": [
       "                          Produit     CodeBarre NutriScore  Nova  \\\n",
       "0  Cristaline Eau de source - 1,5  3.274080e+12          A   1.0   \n",
       "1         Nutella - Ferrero - 400  3.017620e+12          E   4.0   \n",
       "2               Prince - Lu - 300  7.622210e+12          D   4.0   \n",
       "3                Coca-Cola - 330   5.449000e+12          E   4.0   \n",
       "4          Nutella - Ferrero - 1   3.017620e+12          E   4.0   \n",
       "\n",
       "                            Caractéristiques  \\\n",
       "0                    Eau de source naturelle   \n",
       "1  Pâte à tartiner aux noisettes et au cacao   \n",
       "2     BISCUITS FOURRÉS (35%) PARFUM CHOCOLAT   \n",
       "3                 Soda aux extraits végétaux   \n",
       "4              Pâte à tartiner aux noisettes   \n",
       "\n",
       "                                         Ingrédients              NoPalme  \\\n",
       "0                             Eau minérale naturelle  Sans huile de palme   \n",
       "1  Sucre, huile de palme, noisettes 13%, lait écr...                  NaN   \n",
       "2  céréales 50,7% (farine de blé 35%, farine de b...                  NaN   \n",
       "3  Eau gazéifiée, sucre, colorant : E150d, acidif...                  NaN   \n",
       "4  Sucre, huile de palme, NOISETTES 13%, LAIT écr...                  NaN   \n",
       "\n",
       "            Palme     KJ   KCAL  ...  \\\n",
       "0             NaN    0.0    0.0  ...   \n",
       "1  Huile de palme   25.0  539.0  ...   \n",
       "2             NaN   95.0  465.0  ...   \n",
       "3             NaN  180.0   42.0  ...   \n",
       "4  Huile de palme   25.0  539.0  ...   \n",
       "\n",
       "                                                Code  \\\n",
       "0   EMB 44068A - Guenrouet (Loire-Atlantique, Fra...   \n",
       "1                                     NON COMMUNIQUÉ   \n",
       "2                                                NaN   \n",
       "3                                                NaN   \n",
       "4                                                NaN   \n",
       "\n",
       "                                    Lien  \\\n",
       "0             //www.moneaucristaline.fr/   \n",
       "1  //www.nutella.com/fr/fr/produits/n...   \n",
       "2                     //www.lu.fr/prince   \n",
       "3                 //coca-cola.pl coke.at   \n",
       "4  //www.nutella.com/fr/fr/produits/n...   \n",
       "\n",
       "                                             Magasin  \\\n",
       "0                         Carrefour, Leclerc, Auchan   \n",
       "1       Bi1, Magasins U, Carrefour, Franprix, Auchan   \n",
       "2   Carrefour Market, Magasins U, Auchan, Interma...   \n",
       "3                           Tesco, Auchan, Carrefour   \n",
       "4                                             Auchan   \n",
       "\n",
       "                                             Origine  \\\n",
       "0                                             France   \n",
       "1   Australie, Brésil, Chili, Côte d'Ivoire, Ghan...   \n",
       "2                                                NaN   \n",
       "3                                                NaN   \n",
       "4                                                NaN   \n",
       "\n",
       "                                                Pays NbPays MatGrasse  \\\n",
       "0  [' France', ' Guadeloupe', ' Italie', ' Luxemb...     12       4.0   \n",
       "1  [' Autriche', ' Belgique', ' Canada', ' France...     17      30.9   \n",
       "2  [' Belgique', ' France', ' Polynésie française...     15      17.0   \n",
       "3  [' Andorre', ' Autriche', ' Belgique', ' Brési...     36       0.0   \n",
       "4  [' Belgique', ' France', ' Allemagne', ' Guade...     10      30.9   \n",
       "\n",
       "  AcideGras Sucre     Sel  \n",
       "0       0.0   0.0  0.0275  \n",
       "1      10.6  56.3  0.1070  \n",
       "2       5.6  32.0  0.5800  \n",
       "3       0.0  10.6  0.0000  \n",
       "4      10.6  56.3  0.1070  \n",
       "\n",
       "[5 rows x 27 columns]"
      ]
     },
     "execution_count": 11,
     "metadata": {},
     "output_type": "execute_result"
    }
   ],
   "source": [
    "df.head()"
   ]
  },
  {
   "cell_type": "code",
   "execution_count": 32,
   "id": "devoted-princess",
   "metadata": {},
   "outputs": [
    {
     "data": {
      "text/plain": [
       "(18000, 27)"
      ]
     },
     "execution_count": 32,
     "metadata": {},
     "output_type": "execute_result"
    }
   ],
   "source": [
    "df.shape"
   ]
  },
  {
   "cell_type": "code",
   "execution_count": 13,
   "id": "discrete-affairs",
   "metadata": {},
   "outputs": [
    {
     "name": "stdout",
     "output_type": "stream",
     "text": [
      "<class 'pandas.core.frame.DataFrame'>\n",
      "RangeIndex: 18000 entries, 0 to 17999\n",
      "Data columns (total 27 columns):\n",
      " #   Column            Non-Null Count  Dtype  \n",
      "---  ------            --------------  -----  \n",
      " 0   Produit           18000 non-null  object \n",
      " 1   CodeBarre         17926 non-null  float64\n",
      " 2   NutriScore        16254 non-null  object \n",
      " 3   Nova              16349 non-null  float64\n",
      " 4   Caractéristiques  10355 non-null  object \n",
      " 5   Ingrédients       17004 non-null  object \n",
      " 6   NoPalme           9299 non-null   object \n",
      " 7   Palme             1089 non-null   object \n",
      " 8   KJ                7229 non-null   float64\n",
      " 9   KCAL              16282 non-null  float64\n",
      " 10  Eco-Score         14089 non-null  object \n",
      " 11  Quantité          16933 non-null  object \n",
      " 12  Conditionnement   16104 non-null  object \n",
      " 13  Marque            17765 non-null  object \n",
      " 14  Catégorie         18000 non-null  object \n",
      " 15  Label             9901 non-null   object \n",
      " 16  Lieux             7828 non-null   object \n",
      " 17  Code              5925 non-null   object \n",
      " 18  Lien              3523 non-null   object \n",
      " 19  Magasin           13787 non-null  object \n",
      " 20  Origine           5331 non-null   object \n",
      " 21  Pays              18000 non-null  object \n",
      " 22  NbPays            18000 non-null  int64  \n",
      " 23  MatGrasse         17969 non-null  float64\n",
      " 24  AcideGras         17969 non-null  float64\n",
      " 25  Sucre             17968 non-null  float64\n",
      " 26  Sel               17996 non-null  float64\n",
      "dtypes: float64(8), int64(1), object(18)\n",
      "memory usage: 3.7+ MB\n"
     ]
    }
   ],
   "source": [
    "df.info()"
   ]
  },
  {
   "cell_type": "markdown",
   "id": "infinite-conclusion",
   "metadata": {},
   "source": [
    "### Distribution du nombre de produits par catégorie NutriScore, Eco-Score et NovaScore"
   ]
  },
  {
   "cell_type": "code",
   "execution_count": 14,
   "id": "instant-temple",
   "metadata": {},
   "outputs": [
    {
     "data": {
      "image/png": "[encoded data removed]",
      "text/plain": [
       "<Figure size 432x288 with 1 Axes>"
      ]
     },
     "metadata": {
      "needs_background": "light"
     },
     "output_type": "display_data"
    }
   ],
   "source": [
    "df.NutriScore.value_counts().plot(kind = 'bar')\n",
    "plt.show()"
   ]
  },
  {
   "cell_type": "code",
   "execution_count": 15,
   "id": "stuck-galaxy",
   "metadata": {},
   "outputs": [
    {
     "data": {
      "image/png": "[encoded data removed]",
      "text/plain": [
       "<Figure size 432x288 with 1 Axes>"
      ]
     },
     "metadata": {
      "needs_background": "light"
     },
     "output_type": "display_data"
    }
   ],
   "source": [
    "df.Nova.value_counts().plot(kind = 'bar')\n",
    "plt.show()"
   ]
  },
  {
   "cell_type": "code",
   "execution_count": 16,
   "id": "joint-syndicate",
   "metadata": {},
   "outputs": [
    {
     "data": {
      "image/png": "[encoded data removed]",
      "text/plain": [
       "<Figure size 432x288 with 1 Axes>"
      ]
     },
     "metadata": {
      "needs_background": "light"
     },
     "output_type": "display_data"
    }
   ],
   "source": [
    "df['Eco-Score'].value_counts().plot(kind = 'bar')\n",
    "plt.show()"
   ]
  },
  {
   "cell_type": "markdown",
   "id": "acoustic-carter",
   "metadata": {},
   "source": [
    "### Liste des produits \"Gluten Free\" optimaux"
   ]
  },
  {
   "cell_type": "code",
   "execution_count": 17,
   "id": "frank-integer",
   "metadata": {},
   "outputs": [
    {
     "data": {
      "text/html": [
       "<div>\n",
       "<style scoped>\n",
       "    .dataframe tbody tr th:only-of-type {\n",
       "        vertical-align: middle;\n",
       "    }\n",
       "\n",
       "    .dataframe tbody tr th {\n",
       "        vertical-align: top;\n",
       "    }\n",
       "\n",
       "    .dataframe thead th {\n",
       "        text-align: right;\n",
       "    }\n",
       "</style>\n",
       "<table border=\"1\" class=\"dataframe\">\n",
       "  <thead>\n",
       "    <tr style=\"text-align: right;\">\n",
       "      <th></th>\n",
       "      <th>Produit</th>\n",
       "      <th>CodeBarre</th>\n",
       "      <th>NutriScore</th>\n",
       "      <th>Nova</th>\n",
       "      <th>Caractéristiques</th>\n",
       "      <th>Ingrédients</th>\n",
       "      <th>NoPalme</th>\n",
       "      <th>Palme</th>\n",
       "      <th>KJ</th>\n",
       "      <th>KCAL</th>\n",
       "      <th>...</th>\n",
       "      <th>Code</th>\n",
       "      <th>Lien</th>\n",
       "      <th>Magasin</th>\n",
       "      <th>Origine</th>\n",
       "      <th>Pays</th>\n",
       "      <th>NbPays</th>\n",
       "      <th>MatGrasse</th>\n",
       "      <th>AcideGras</th>\n",
       "      <th>Sucre</th>\n",
       "      <th>Sel</th>\n",
       "    </tr>\n",
       "  </thead>\n",
       "  <tbody>\n",
       "    <tr>\n",
       "      <th>387</th>\n",
       "      <td>Panzani tomacouli nature - 200</td>\n",
       "      <td>3.038353e+12</td>\n",
       "      <td>A</td>\n",
       "      <td>1.0</td>\n",
       "      <td>Purée de tomates fraîches réduite à 7%</td>\n",
       "      <td>Tomates fraîches, correcteur d'acidité : acide...</td>\n",
       "      <td>Sans huile de palme</td>\n",
       "      <td>NaN</td>\n",
       "      <td>113.0</td>\n",
       "      <td>27.0</td>\n",
       "      <td>...</td>\n",
       "      <td>NaN</td>\n",
       "      <td>//www.panzani.fr/nos-produits/nos-...</td>\n",
       "      <td>CARREFOUR MARKET, E. Leclerc</td>\n",
       "      <td>France</td>\n",
       "      <td>[]</td>\n",
       "      <td>0</td>\n",
       "      <td>0.1</td>\n",
       "      <td>0.0</td>\n",
       "      <td>3.9</td>\n",
       "      <td>0.00</td>\n",
       "    </tr>\n",
       "    <tr>\n",
       "      <th>389</th>\n",
       "      <td>Soja nature sans sucre ajouté bio - Bjorg - 1</td>\n",
       "      <td>3.229820e+12</td>\n",
       "      <td>A</td>\n",
       "      <td>1.0</td>\n",
       "      <td>Boisson biologique à base de soja, stérilisée UHT</td>\n",
       "      <td>Tonyu* (eau, fèves de soja* sans OGM décortiqu...</td>\n",
       "      <td>Sans huile de palme</td>\n",
       "      <td>NaN</td>\n",
       "      <td>178.0</td>\n",
       "      <td>43.0</td>\n",
       "      <td>...</td>\n",
       "      <td>NaN</td>\n",
       "      <td>//www.bjorg.fr/produits-bio/boisso...</td>\n",
       "      <td>intermarché, Magasins U, Monoprix</td>\n",
       "      <td>NaN</td>\n",
       "      <td>[]</td>\n",
       "      <td>0</td>\n",
       "      <td>2.6</td>\n",
       "      <td>0.6</td>\n",
       "      <td>0.5</td>\n",
       "      <td>0.03</td>\n",
       "    </tr>\n",
       "    <tr>\n",
       "      <th>549</th>\n",
       "      <td>Compote Pomme Nature - Andros - 730</td>\n",
       "      <td>3.608581e+12</td>\n",
       "      <td>A</td>\n",
       "      <td>1.0</td>\n",
       "      <td>NaN</td>\n",
       "      <td>Pommes (purée et purée concentrée) 99,9 %, jus...</td>\n",
       "      <td>Sans huile de palme</td>\n",
       "      <td>NaN</td>\n",
       "      <td>NaN</td>\n",
       "      <td>55.0</td>\n",
       "      <td>...</td>\n",
       "      <td>NaN</td>\n",
       "      <td>NaN</td>\n",
       "      <td>Magasins U</td>\n",
       "      <td>NaN</td>\n",
       "      <td>[' Luxembourg']</td>\n",
       "      <td>1</td>\n",
       "      <td>0.2</td>\n",
       "      <td>0.0</td>\n",
       "      <td>12.0</td>\n",
       "      <td>0.00</td>\n",
       "    </tr>\n",
       "    <tr>\n",
       "      <th>1064</th>\n",
       "      <td>Pomme Sans sucres ajoutés - Carrefour - 710</td>\n",
       "      <td>3.245415e+12</td>\n",
       "      <td>A</td>\n",
       "      <td>1.0</td>\n",
       "      <td>Purée de pomme sans sucres ajoutés*. *Contient...</td>\n",
       "      <td>Purée de pommes 98,5%, jus concentré de pommes...</td>\n",
       "      <td>NaN</td>\n",
       "      <td>NaN</td>\n",
       "      <td>225.0</td>\n",
       "      <td>53.0</td>\n",
       "      <td>...</td>\n",
       "      <td>NaN</td>\n",
       "      <td>NaN</td>\n",
       "      <td>Carrefour, Carrefour Market, Carrefour City</td>\n",
       "      <td>Union européenne</td>\n",
       "      <td>[' Polynésie française', ' Nouvelle-Calédonie']</td>\n",
       "      <td>2</td>\n",
       "      <td>0.0</td>\n",
       "      <td>0.0</td>\n",
       "      <td>11.0</td>\n",
       "      <td>0.04</td>\n",
       "    </tr>\n",
       "    <tr>\n",
       "      <th>1074</th>\n",
       "      <td>Panzani - bc - tomacouli nature bio - 250</td>\n",
       "      <td>3.038353e+12</td>\n",
       "      <td>A</td>\n",
       "      <td>1.0</td>\n",
       "      <td>Purée de tomates Bio réduite à 7%</td>\n",
       "      <td>Purée de tomates issues de l'agriculture biolo...</td>\n",
       "      <td>Sans huile de palme</td>\n",
       "      <td>NaN</td>\n",
       "      <td>91.0</td>\n",
       "      <td>22.0</td>\n",
       "      <td>...</td>\n",
       "      <td>NaN</td>\n",
       "      <td>//www.panzani.fr/produits/toute-gam...</td>\n",
       "      <td>Magasins U, Leclerc</td>\n",
       "      <td>Agriculture UE</td>\n",
       "      <td>[' Suisse']</td>\n",
       "      <td>1</td>\n",
       "      <td>0.1</td>\n",
       "      <td>0.0</td>\n",
       "      <td>3.5</td>\n",
       "      <td>0.00</td>\n",
       "    </tr>\n",
       "    <tr>\n",
       "      <th>...</th>\n",
       "      <td>...</td>\n",
       "      <td>...</td>\n",
       "      <td>...</td>\n",
       "      <td>...</td>\n",
       "      <td>...</td>\n",
       "      <td>...</td>\n",
       "      <td>...</td>\n",
       "      <td>...</td>\n",
       "      <td>...</td>\n",
       "      <td>...</td>\n",
       "      <td>...</td>\n",
       "      <td>...</td>\n",
       "      <td>...</td>\n",
       "      <td>...</td>\n",
       "      <td>...</td>\n",
       "      <td>...</td>\n",
       "      <td>...</td>\n",
       "      <td>...</td>\n",
       "      <td>...</td>\n",
       "      <td>...</td>\n",
       "      <td>...</td>\n",
       "    </tr>\n",
       "    <tr>\n",
       "      <th>17351</th>\n",
       "      <td>Ananas origine Philippines en tranches au jus ...</td>\n",
       "      <td>3.080921e+12</td>\n",
       "      <td>A</td>\n",
       "      <td>1.0</td>\n",
       "      <td>Ananas en tranches entières au jus d'ananas</td>\n",
       "      <td>Ananas en tranches, jus d'ananas, acidifiant: ...</td>\n",
       "      <td>Sans huile de palme</td>\n",
       "      <td>NaN</td>\n",
       "      <td>228.0</td>\n",
       "      <td>54.5</td>\n",
       "      <td>...</td>\n",
       "      <td>NaN</td>\n",
       "      <td>NaN</td>\n",
       "      <td>NaN</td>\n",
       "      <td>Philippines, Thaïlande</td>\n",
       "      <td>[]</td>\n",
       "      <td>0</td>\n",
       "      <td>0.0</td>\n",
       "      <td>0.0</td>\n",
       "      <td>12.0</td>\n",
       "      <td>0.00</td>\n",
       "    </tr>\n",
       "    <tr>\n",
       "      <th>17583</th>\n",
       "      <td>Tomates entières pelées fraîches - Carrefour B...</td>\n",
       "      <td>3.560071e+12</td>\n",
       "      <td>A</td>\n",
       "      <td>1.0</td>\n",
       "      <td>Tomates entières pelées au jus issues de l'agr...</td>\n",
       "      <td>Tomates entières pelées bio 60 %, jus de tomat...</td>\n",
       "      <td>Sans huile de palme</td>\n",
       "      <td>NaN</td>\n",
       "      <td>93.0</td>\n",
       "      <td>22.0</td>\n",
       "      <td>...</td>\n",
       "      <td>NaN</td>\n",
       "      <td>NaN</td>\n",
       "      <td>Carrefour</td>\n",
       "      <td>Italie</td>\n",
       "      <td>[]</td>\n",
       "      <td>0</td>\n",
       "      <td>0.0</td>\n",
       "      <td>0.0</td>\n",
       "      <td>2.9</td>\n",
       "      <td>0.04</td>\n",
       "    </tr>\n",
       "    <tr>\n",
       "      <th>17611</th>\n",
       "      <td>Lentille verte du Centre - Reflets de France -...</td>\n",
       "      <td>3.560071e+12</td>\n",
       "      <td>A</td>\n",
       "      <td>1.0</td>\n",
       "      <td>Lentilles vertes</td>\n",
       "      <td>Lentilles vertes.</td>\n",
       "      <td>Sans huile de palme</td>\n",
       "      <td>NaN</td>\n",
       "      <td>NaN</td>\n",
       "      <td>306.0</td>\n",
       "      <td>...</td>\n",
       "      <td>EMB 43124 - Loudes (Haute-Loire, France)</td>\n",
       "      <td>//www.refletsdefrance.fr/produits/...</td>\n",
       "      <td>Carrefour Market</td>\n",
       "      <td>Région Centre</td>\n",
       "      <td>[]</td>\n",
       "      <td>0</td>\n",
       "      <td>0.7</td>\n",
       "      <td>0.0</td>\n",
       "      <td>2.0</td>\n",
       "      <td>0.10</td>\n",
       "    </tr>\n",
       "    <tr>\n",
       "      <th>17884</th>\n",
       "      <td>Farine de blé Bio - Auchan - 1</td>\n",
       "      <td>3.596710e+12</td>\n",
       "      <td>A</td>\n",
       "      <td>1.0</td>\n",
       "      <td>NaN</td>\n",
       "      <td>FARINE DE BLÉ T65</td>\n",
       "      <td>Sans huile de palme</td>\n",
       "      <td>NaN</td>\n",
       "      <td>NaN</td>\n",
       "      <td>353.0</td>\n",
       "      <td>...</td>\n",
       "      <td>NaN</td>\n",
       "      <td>NaN</td>\n",
       "      <td>Auchan</td>\n",
       "      <td>Union européenne</td>\n",
       "      <td>[]</td>\n",
       "      <td>0</td>\n",
       "      <td>1.1</td>\n",
       "      <td>0.2</td>\n",
       "      <td>1.5</td>\n",
       "      <td>0.01</td>\n",
       "    </tr>\n",
       "    <tr>\n",
       "      <th>17970</th>\n",
       "      <td>Pois Chiches - Fleurs Des Champs - 265</td>\n",
       "      <td>2.606758e+07</td>\n",
       "      <td>A</td>\n",
       "      <td>1.0</td>\n",
       "      <td>NaN</td>\n",
       "      <td>Pois chiches, eau sel</td>\n",
       "      <td>NaN</td>\n",
       "      <td>NaN</td>\n",
       "      <td>NaN</td>\n",
       "      <td>118.0</td>\n",
       "      <td>...</td>\n",
       "      <td>EMB 13078 - Port-Saint-Louis-du-Rhône (Bouche...</td>\n",
       "      <td>NaN</td>\n",
       "      <td>NaN</td>\n",
       "      <td>NaN</td>\n",
       "      <td>[]</td>\n",
       "      <td>0</td>\n",
       "      <td>2.4</td>\n",
       "      <td>0.4</td>\n",
       "      <td>0.4</td>\n",
       "      <td>0.45</td>\n",
       "    </tr>\n",
       "  </tbody>\n",
       "</table>\n",
       "<p>173 rows × 27 columns</p>\n",
       "</div>"
      ],
      "text/plain": [
       "                                                 Produit     CodeBarre  \\\n",
       "387                       Panzani tomacouli nature - 200  3.038353e+12   \n",
       "389        Soja nature sans sucre ajouté bio - Bjorg - 1  3.229820e+12   \n",
       "549                  Compote Pomme Nature - Andros - 730  3.608581e+12   \n",
       "1064         Pomme Sans sucres ajoutés - Carrefour - 710  3.245415e+12   \n",
       "1074           Panzani - bc - tomacouli nature bio - 250  3.038353e+12   \n",
       "...                                                  ...           ...   \n",
       "17351  Ananas origine Philippines en tranches au jus ...  3.080921e+12   \n",
       "17583  Tomates entières pelées fraîches - Carrefour B...  3.560071e+12   \n",
       "17611  Lentille verte du Centre - Reflets de France -...  3.560071e+12   \n",
       "17884                    Farine de blé Bio - Auchan - 1   3.596710e+12   \n",
       "17970             Pois Chiches - Fleurs Des Champs - 265  2.606758e+07   \n",
       "\n",
       "      NutriScore  Nova                                   Caractéristiques  \\\n",
       "387            A   1.0             Purée de tomates fraîches réduite à 7%   \n",
       "389            A   1.0  Boisson biologique à base de soja, stérilisée UHT   \n",
       "549            A   1.0                                                NaN   \n",
       "1064           A   1.0  Purée de pomme sans sucres ajoutés*. *Contient...   \n",
       "1074           A   1.0                  Purée de tomates Bio réduite à 7%   \n",
       "...          ...   ...                                                ...   \n",
       "17351          A   1.0        Ananas en tranches entières au jus d'ananas   \n",
       "17583          A   1.0  Tomates entières pelées au jus issues de l'agr...   \n",
       "17611          A   1.0                                   Lentilles vertes   \n",
       "17884          A   1.0                                                NaN   \n",
       "17970          A   1.0                                                NaN   \n",
       "\n",
       "                                             Ingrédients              NoPalme  \\\n",
       "387    Tomates fraîches, correcteur d'acidité : acide...  Sans huile de palme   \n",
       "389    Tonyu* (eau, fèves de soja* sans OGM décortiqu...  Sans huile de palme   \n",
       "549    Pommes (purée et purée concentrée) 99,9 %, jus...  Sans huile de palme   \n",
       "1064   Purée de pommes 98,5%, jus concentré de pommes...                  NaN   \n",
       "1074   Purée de tomates issues de l'agriculture biolo...  Sans huile de palme   \n",
       "...                                                  ...                  ...   \n",
       "17351  Ananas en tranches, jus d'ananas, acidifiant: ...  Sans huile de palme   \n",
       "17583  Tomates entières pelées bio 60 %, jus de tomat...  Sans huile de palme   \n",
       "17611                                  Lentilles vertes.  Sans huile de palme   \n",
       "17884                                  FARINE DE BLÉ T65  Sans huile de palme   \n",
       "17970                              Pois chiches, eau sel                  NaN   \n",
       "\n",
       "      Palme     KJ   KCAL  ...  \\\n",
       "387     NaN  113.0   27.0  ...   \n",
       "389     NaN  178.0   43.0  ...   \n",
       "549     NaN    NaN   55.0  ...   \n",
       "1064    NaN  225.0   53.0  ...   \n",
       "1074    NaN   91.0   22.0  ...   \n",
       "...     ...    ...    ...  ...   \n",
       "17351   NaN  228.0   54.5  ...   \n",
       "17583   NaN   93.0   22.0  ...   \n",
       "17611   NaN    NaN  306.0  ...   \n",
       "17884   NaN    NaN  353.0  ...   \n",
       "17970   NaN    NaN  118.0  ...   \n",
       "\n",
       "                                                    Code  \\\n",
       "387                                                  NaN   \n",
       "389                                                  NaN   \n",
       "549                                                  NaN   \n",
       "1064                                                 NaN   \n",
       "1074                                                 NaN   \n",
       "...                                                  ...   \n",
       "17351                                                NaN   \n",
       "17583                                                NaN   \n",
       "17611           EMB 43124 - Loudes (Haute-Loire, France)   \n",
       "17884                                                NaN   \n",
       "17970   EMB 13078 - Port-Saint-Louis-du-Rhône (Bouche...   \n",
       "\n",
       "                                         Lien  \\\n",
       "387     //www.panzani.fr/nos-produits/nos-...   \n",
       "389     //www.bjorg.fr/produits-bio/boisso...   \n",
       "549                                       NaN   \n",
       "1064                                      NaN   \n",
       "1074   //www.panzani.fr/produits/toute-gam...   \n",
       "...                                       ...   \n",
       "17351                                     NaN   \n",
       "17583                                     NaN   \n",
       "17611   //www.refletsdefrance.fr/produits/...   \n",
       "17884                                     NaN   \n",
       "17970                                     NaN   \n",
       "\n",
       "                                            Magasin                  Origine  \\\n",
       "387                    CARREFOUR MARKET, E. Leclerc                   France   \n",
       "389               intermarché, Magasins U, Monoprix                      NaN   \n",
       "549                                      Magasins U                      NaN   \n",
       "1064    Carrefour, Carrefour Market, Carrefour City         Union européenne   \n",
       "1074                            Magasins U, Leclerc           Agriculture UE   \n",
       "...                                             ...                      ...   \n",
       "17351                                           NaN   Philippines, Thaïlande   \n",
       "17583                                     Carrefour                   Italie   \n",
       "17611                              Carrefour Market            Région Centre   \n",
       "17884                                        Auchan         Union européenne   \n",
       "17970                                           NaN                      NaN   \n",
       "\n",
       "                                                  Pays NbPays MatGrasse  \\\n",
       "387                                                 []      0       0.1   \n",
       "389                                                 []      0       2.6   \n",
       "549                                    [' Luxembourg']      1       0.2   \n",
       "1064   [' Polynésie française', ' Nouvelle-Calédonie']      2       0.0   \n",
       "1074                                       [' Suisse']      1       0.1   \n",
       "...                                                ...    ...       ...   \n",
       "17351                                               []      0       0.0   \n",
       "17583                                               []      0       0.0   \n",
       "17611                                               []      0       0.7   \n",
       "17884                                               []      0       1.1   \n",
       "17970                                               []      0       2.4   \n",
       "\n",
       "      AcideGras Sucre   Sel  \n",
       "387         0.0   3.9  0.00  \n",
       "389         0.6   0.5  0.03  \n",
       "549         0.0  12.0  0.00  \n",
       "1064        0.0  11.0  0.04  \n",
       "1074        0.0   3.5  0.00  \n",
       "...         ...   ...   ...  \n",
       "17351       0.0  12.0  0.00  \n",
       "17583       0.0   2.9  0.04  \n",
       "17611       0.0   2.0  0.10  \n",
       "17884       0.2   1.5  0.01  \n",
       "17970       0.4   0.4  0.45  \n",
       "\n",
       "[173 rows x 27 columns]"
      ]
     },
     "execution_count": 17,
     "metadata": {},
     "output_type": "execute_result"
    }
   ],
   "source": [
    "df[(df['NutriScore'] == 'A') & (df['Eco-Score'] == 'A') & (df['Nova'] == 1)]"
   ]
  },
  {
   "cell_type": "markdown",
   "id": "enabling-better",
   "metadata": {},
   "source": [
    "### Nombre de produit dont le ratio sucre/produit est supérieur à 0.6"
   ]
  },
  {
   "cell_type": "code",
   "execution_count": 18,
   "id": "incorporate-judge",
   "metadata": {},
   "outputs": [
    {
     "data": {
      "text/plain": [
       "373"
      ]
     },
     "execution_count": 18,
     "metadata": {},
     "output_type": "execute_result"
    }
   ],
   "source": [
    "nb_sucre = df[df['Sucre']/100 >= 0.6].count()['Produit']\n",
    "nb_sucre"
   ]
  },
  {
   "cell_type": "code",
   "execution_count": 19,
   "id": "cardiac-pizza",
   "metadata": {},
   "outputs": [],
   "source": [
    "ratio_sucre = nb_sucre / len(df) \n",
    "ratio_sucre\n",
    "y = np.array([1-ratio_sucre, ratio_sucre])\n",
    "labels = ['Sucre/Produit < 0.6', 'Sucre/Produit > 0.6']"
   ]
  },
  {
   "cell_type": "code",
   "execution_count": 20,
   "id": "constant-cover",
   "metadata": {},
   "outputs": [
    {
     "data": {
      "image/png": "[encoded data removed]",
      "text/plain": [
       "<Figure size 432x288 with 1 Axes>"
      ]
     },
     "metadata": {},
     "output_type": "display_data"
    }
   ],
   "source": [
    "plt.pie(y, labels = labels)\n",
    "plt.show()"
   ]
  },
  {
   "cell_type": "markdown",
   "id": "proper-tampa",
   "metadata": {},
   "source": [
    "### Liste des produits dont le nombre de calories pour 100g est supérieur à 500"
   ]
  },
  {
   "cell_type": "code",
   "execution_count": 21,
   "id": "liable-seating",
   "metadata": {},
   "outputs": [
    {
     "data": {
      "text/plain": [
       "1                                  Nutella - Ferrero - 400\n",
       "4                                   Nutella - Ferrero - 1 \n",
       "7                         Nutella biscuits - Ferrero - 304\n",
       "15       Excellence 70% Cacao Noir Intense - Lindt - 100 g\n",
       "27              Pur beurre de cacahuète - Jardin Bio - 350\n",
       "                               ...                        \n",
       "17947           Pistaches caramélisées - J. D. GROSS - 125\n",
       "17953    Big Hit Cacahuètes Chocolatées - Mister ChocLi...\n",
       "17963              Chocolat noir - Château - 400 g (2x200 \n",
       "17967                  Palmiers - Mes p tits secrets - 100\n",
       "17976                           Mayonnaise - Lesieur - 710\n",
       "Name: Produit, Length: 2190, dtype: object"
      ]
     },
     "execution_count": 21,
     "metadata": {},
     "output_type": "execute_result"
    }
   ],
   "source": [
    "df[df['KCAL'] > 500]['Produit']"
   ]
  },
  {
   "cell_type": "markdown",
   "id": "julian-robin",
   "metadata": {},
   "source": [
    "### Liste des produits contenant de l’huile de palme, vendu en France et en Belgique"
   ]
  },
  {
   "cell_type": "code",
   "execution_count": 22,
   "id": "indonesian-relationship",
   "metadata": {},
   "outputs": [
    {
     "data": {
      "text/plain": [
       "1                                  Nutella - Ferrero - 400\n",
       "4                                   Nutella - Ferrero - 1 \n",
       "7                         Nutella biscuits - Ferrero - 304\n",
       "29                                 Nutella - Ferrero - 975\n",
       "35                                 Nutella - Ferrero - 750\n",
       "50                                 Nutella - Ferrero - 825\n",
       "127      Kinder bueno gaufrettes enrobees de chocolat 2...\n",
       "256      Nutella pate a tartiner noisettes-cacao t200 p...\n",
       "727      Ferrero rocher fines gaufrettes enrobees de ch...\n",
       "1264                     Kinder schokobons sachet de - 200\n",
       "1478     Kinder chocofresh gouter frais chocolat superi...\n",
       "2396     Snickers glacé x7 - Mars - 288 g (6 * 48 g e) ...\n",
       "3223                                          Maltesers 17\n",
       "3599     Bounty Barres Glacees Ice Cream - BountyMars -...\n",
       "3887         Ristorante - Pizza Spinaci - Dr. Oetker - 390\n",
       "3891     CLUSTERS almonds seeds barres de céréales - Ne...\n",
       "7111                   Balisto Goût fruits des bois - 166,\n",
       "8921                       Spéculoos Crunchy - Lotus - 380\n",
       "9699     Chocolat noir bio caramel beurre salé - Côte d...\n",
       "10018                 Balisto Noisettes Raisins x9 - 166.5\n",
       "12293                                   M&M's Peanut - 300\n",
       "14004    Kinder maxi barre chocolat au lait avec fourra...\n",
       "15056    Feuilleté de Mousse Menthe - La Laitière - 228...\n",
       "16487    Clusters crunchy choco - Nestlé - 140 g, 4 bar...\n",
       "Name: Produit, dtype: object"
      ]
     },
     "execution_count": 22,
     "metadata": {},
     "output_type": "execute_result"
    }
   ],
   "source": [
    "df[(df['Palme'] == 'Huile de palme') & ((df['Pays'].str.contains('France')) & (df['Pays'].str.contains('Belgique')))]['Produit']"
   ]
  },
  {
   "cell_type": "markdown",
   "id": "solid-pursuit",
   "metadata": {},
   "source": [
    "### Distribution des produits par nombre de pays de vente"
   ]
  },
  {
   "cell_type": "code",
   "execution_count": 23,
   "id": "amazing-proposal",
   "metadata": {},
   "outputs": [
    {
     "data": {
      "image/png": "[encoded data removed]",
      "text/plain": [
       "<Figure size 432x288 with 1 Axes>"
      ]
     },
     "metadata": {
      "needs_background": "light"
     },
     "output_type": "display_data"
    }
   ],
   "source": [
    "df['NbPays'].value_counts().nlargest(12).plot(kind='bar')\n",
    "plt.show()"
   ]
  },
  {
   "cell_type": "markdown",
   "id": "legendary-french",
   "metadata": {},
   "source": [
    "## Analyse complémentaire"
   ]
  },
  {
   "cell_type": "markdown",
   "id": "nominated-rocket",
   "metadata": {},
   "source": [
    "### Quelles sont les caractéristiques des produits salés ?"
   ]
  },
  {
   "cell_type": "code",
   "execution_count": 24,
   "id": "welsh-fitting",
   "metadata": {},
   "outputs": [],
   "source": [
    "gass = df[['MatGrasse', 'AcideGras', 'Sucre', 'KCAL', 'KJ']]"
   ]
  },
  {
   "cell_type": "code",
   "execution_count": 25,
   "id": "sharp-network",
   "metadata": {},
   "outputs": [],
   "source": [
    "#Création de sous ensemble gras / non gras\n",
    "salé = df[df['Sel'] > df['Sel'].mean()]\n",
    "non_salé = df[df['Sel'] < df['Sel'].mean()]"
   ]
  },
  {
   "cell_type": "code",
   "execution_count": 26,
   "id": "casual-precipitation",
   "metadata": {},
   "outputs": [
    {
     "data": {
      "image/png": "[encoded data removed]",
      "text/plain": [
       "<Figure size 432x288 with 1 Axes>"
      ]
     },
     "metadata": {
      "needs_background": "light"
     },
     "output_type": "display_data"
    },
    {
     "data": {
      "image/png": "[encoded data removed]",
      "text/plain": [
       "<Figure size 432x288 with 1 Axes>"
      ]
     },
     "metadata": {
      "needs_background": "light"
     },
     "output_type": "display_data"
    },
    {
     "data": {
      "image/png": "[encoded data removed]",
      "text/plain": [
       "<Figure size 432x288 with 1 Axes>"
      ]
     },
     "metadata": {
      "needs_background": "light"
     },
     "output_type": "display_data"
    },
    {
     "data": {
      "image/png": "[encoded data removed]",
      "text/plain": [
       "<Figure size 432x288 with 1 Axes>"
      ]
     },
     "metadata": {
      "needs_background": "light"
     },
     "output_type": "display_data"
    },
    {
     "data": {
      "image/png": "[encoded data removed]",
      "text/plain": [
       "<Figure size 432x288 with 1 Axes>"
      ]
     },
     "metadata": {
      "needs_background": "light"
     },
     "output_type": "display_data"
    }
   ],
   "source": [
    "for col in gass:\n",
    "    sns.histplot(data= salé[col], label = 'Très salé', kde = True, color = 'red')\n",
    "    sns.histplot(data= non_salé[col], label = 'Peu salé', kde = True, color = 'orange')\n",
    "    plt.legend()\n",
    "    plt.show()"
   ]
  },
  {
   "cell_type": "markdown",
   "id": "infectious-guitar",
   "metadata": {},
   "source": [
    "### Les produits les plus salés"
   ]
  },
  {
   "cell_type": "code",
   "execution_count": 27,
   "id": "sharing-yemen",
   "metadata": {},
   "outputs": [
    {
     "data": {
      "image/png": "[encoded data removed]",
      "text/plain": [
       "<Figure size 432x288 with 1 Axes>"
      ]
     },
     "metadata": {
      "needs_background": "light"
     },
     "output_type": "display_data"
    }
   ],
   "source": [
    "top_sel = df[['Produit', 'Sel']].sort_values('Sel', ascending = False).head(10)\n",
    "top_sel.plot('Produit', 'Sel', kind='barh')\n",
    "plt.show()"
   ]
  },
  {
   "cell_type": "markdown",
   "id": "golden-commodity",
   "metadata": {},
   "source": [
    "### Le Score des produits salés"
   ]
  },
  {
   "cell_type": "code",
   "execution_count": 28,
   "id": "labeled-tracy",
   "metadata": {},
   "outputs": [
    {
     "name": "stdout",
     "output_type": "stream",
     "text": [
      "NovaScore : 3.4086021505376345 \n",
      " NutriScore : 0    D\n",
      "dtype: object \n",
      " Eco-Score : 0    A\n",
      "dtype: object\n"
     ]
    }
   ],
   "source": [
    "top_sel = df[['Produit', 'Sel', 'Eco-Score', 'Nova', 'NutriScore']].sort_values('Sel', ascending = False).head(100)\n",
    "salt_nova = top_sel['Nova'].mean()\n",
    "salt_nutri = top_sel['NutriScore'].mode()\n",
    "salt_eco = top_sel['Eco-Score'].mode()\n",
    "\n",
    "print(f'NovaScore : {salt_nova} \\n NutriScore : {salt_nutri} \\n Eco-Score : {salt_eco}')"
   ]
  },
  {
   "cell_type": "markdown",
   "id": "continuing-fellow",
   "metadata": {},
   "source": [
    "### D'où viennent les produits salés"
   ]
  },
  {
   "cell_type": "code",
   "execution_count": 29,
   "id": "efficient-madagascar",
   "metadata": {},
   "outputs": [],
   "source": [
    "top_sel = df[['Produit', 'Sel','Origine']].sort_values('Sel', ascending = False).head(100)"
   ]
  },
  {
   "cell_type": "code",
   "execution_count": 30,
   "id": "strong-memphis",
   "metadata": {},
   "outputs": [
    {
     "data": {
      "image/png": "[encoded data removed]",
      "text/plain": [
       "<Figure size 432x288 with 1 Axes>"
      ]
     },
     "metadata": {
      "needs_background": "light"
     },
     "output_type": "display_data"
    }
   ],
   "source": [
    "top_sel['Origine'].value_counts().nlargest().plot(kind='barh')\n",
    "plt.show()"
   ]
  },
  {
   "cell_type": "code",
   "execution_count": null,
   "id": "crucial-blake",
   "metadata": {},
   "outputs": [],
   "source": []
  }
 ],
 "metadata": {
  "kernelspec": {
   "display_name": "Python 3",
   "language": "python",
   "name": "python3"
  },
  "language_info": {
   "codemirror_mode": {
    "name": "ipython",
    "version": 3
   },
   "file_extension": ".py",
   "mimetype": "text/x-python",
   "name": "python",
   "nbconvert_exporter": "python",
   "pygments_lexer": "ipython3",
   "version": "3.8.8"
  }
 },
 "nbformat": 4,
 "nbformat_minor": 5
}
